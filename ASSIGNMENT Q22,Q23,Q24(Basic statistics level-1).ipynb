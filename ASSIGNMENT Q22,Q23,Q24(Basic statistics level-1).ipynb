{
 "cells": [
  {
   "cell_type": "code",
   "execution_count": 3,
   "id": "a6f18350",
   "metadata": {},
   "outputs": [],
   "source": [
    "import pandas as pd\n",
    "import numpy as np\n",
    "import matplotlib as mlt\n",
    "import matplotlib.pyplot as plt\n",
    "import seaborn as sns\n",
    "from scipy import stats"
   ]
  },
  {
   "cell_type": "code",
   "execution_count": 4,
   "id": "89cde4e9",
   "metadata": {},
   "outputs": [],
   "source": [
    "Q22 = stats.norm.ppf(0.95)"
   ]
  },
  {
   "cell_type": "code",
   "execution_count": 5,
   "id": "c35d0e24",
   "metadata": {},
   "outputs": [
    {
     "data": {
      "text/plain": [
       "1.6448536269514722"
      ]
     },
     "execution_count": 5,
     "metadata": {},
     "output_type": "execute_result"
    }
   ],
   "source": [
    "Q22"
   ]
  },
  {
   "cell_type": "code",
   "execution_count": 6,
   "id": "72fd5a5c",
   "metadata": {},
   "outputs": [],
   "source": [
    "Q22 = stats.norm.ppf(0.97)"
   ]
  },
  {
   "cell_type": "code",
   "execution_count": 7,
   "id": "b4acb5f8",
   "metadata": {},
   "outputs": [
    {
     "data": {
      "text/plain": [
       "1.8807936081512509"
      ]
     },
     "execution_count": 7,
     "metadata": {},
     "output_type": "execute_result"
    }
   ],
   "source": [
    "Q22"
   ]
  },
  {
   "cell_type": "code",
   "execution_count": 8,
   "id": "10638328",
   "metadata": {},
   "outputs": [],
   "source": [
    "Q22 = stats.norm.ppf(0.80)"
   ]
  },
  {
   "cell_type": "code",
   "execution_count": 9,
   "id": "dbaab336",
   "metadata": {},
   "outputs": [
    {
     "data": {
      "text/plain": [
       "0.8416212335729143"
      ]
     },
     "execution_count": 9,
     "metadata": {},
     "output_type": "execute_result"
    }
   ],
   "source": [
    "Q22"
   ]
  },
  {
   "cell_type": "markdown",
   "id": "1d21e1ab",
   "metadata": {},
   "source": [
    "# Q23"
   ]
  },
  {
   "cell_type": "code",
   "execution_count": 10,
   "id": "d1e1de8c",
   "metadata": {},
   "outputs": [],
   "source": [
    "Q23 = stats.t.ppf(0.975,24)"
   ]
  },
  {
   "cell_type": "code",
   "execution_count": 11,
   "id": "df1f3ec3",
   "metadata": {},
   "outputs": [
    {
     "data": {
      "text/plain": [
       "2.0638985616280205"
      ]
     },
     "execution_count": 11,
     "metadata": {},
     "output_type": "execute_result"
    }
   ],
   "source": [
    "Q23"
   ]
  },
  {
   "cell_type": "code",
   "execution_count": 12,
   "id": "18ae8786",
   "metadata": {},
   "outputs": [],
   "source": [
    "Q23 = stats.t.ppf(0.995,24)"
   ]
  },
  {
   "cell_type": "code",
   "execution_count": 13,
   "id": "9ca24b24",
   "metadata": {},
   "outputs": [
    {
     "data": {
      "text/plain": [
       "2.796939504772804"
      ]
     },
     "execution_count": 13,
     "metadata": {},
     "output_type": "execute_result"
    }
   ],
   "source": [
    "Q23"
   ]
  },
  {
   "cell_type": "code",
   "execution_count": 14,
   "id": "31e53478",
   "metadata": {},
   "outputs": [],
   "source": [
    "Q23 = stats.t.ppf(0.98,25)"
   ]
  },
  {
   "cell_type": "code",
   "execution_count": 15,
   "id": "6e3b275c",
   "metadata": {},
   "outputs": [
    {
     "data": {
      "text/plain": [
       "2.1665866344527562"
      ]
     },
     "execution_count": 15,
     "metadata": {},
     "output_type": "execute_result"
    }
   ],
   "source": [
    "Q23"
   ]
  },
  {
   "cell_type": "markdown",
   "id": "dc646cb4",
   "metadata": {},
   "source": [
    "# Q24"
   ]
  },
  {
   "cell_type": "code",
   "execution_count": 16,
   "id": "50940708",
   "metadata": {},
   "outputs": [],
   "source": [
    "#Here, t= x-mu/(s/sqrt(n))\n",
    "t = (260-270)/(90/(18**0.5))"
   ]
  },
  {
   "cell_type": "code",
   "execution_count": 17,
   "id": "ecb5d29c",
   "metadata": {},
   "outputs": [
    {
     "data": {
      "text/plain": [
       "-0.4714045207910317"
      ]
     },
     "execution_count": 17,
     "metadata": {},
     "output_type": "execute_result"
    }
   ],
   "source": [
    "t"
   ]
  },
  {
   "cell_type": "code",
   "execution_count": 18,
   "id": "8ab7f4c7",
   "metadata": {},
   "outputs": [],
   "source": [
    "p_value = stats.t.cdf(-0.4714,17)"
   ]
  },
  {
   "cell_type": "code",
   "execution_count": 19,
   "id": "3cdc7647",
   "metadata": {},
   "outputs": [
    {
     "data": {
      "text/plain": [
       "0.32167411684460556"
      ]
     },
     "execution_count": 19,
     "metadata": {},
     "output_type": "execute_result"
    }
   ],
   "source": [
    "p_value"
   ]
  },
  {
   "cell_type": "code",
   "execution_count": null,
   "id": "b1db1d92",
   "metadata": {},
   "outputs": [],
   "source": []
  },
  {
   "cell_type": "code",
   "execution_count": null,
   "id": "9934fe30",
   "metadata": {},
   "outputs": [],
   "source": []
  }
 ],
 "metadata": {
  "kernelspec": {
   "display_name": "Python 3 (ipykernel)",
   "language": "python",
   "name": "python3"
  },
  "language_info": {
   "codemirror_mode": {
    "name": "ipython",
    "version": 3
   },
   "file_extension": ".py",
   "mimetype": "text/x-python",
   "name": "python",
   "nbconvert_exporter": "python",
   "pygments_lexer": "ipython3",
   "version": "3.10.2"
  }
 },
 "nbformat": 4,
 "nbformat_minor": 5
}
